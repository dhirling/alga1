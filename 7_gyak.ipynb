{
 "cells": [
  {
   "cell_type": "markdown",
   "metadata": {},
   "source": [
    "# 7. Gyakorlat (keresőfák)\n",
    "A mai órán az egyik legfontosabb adatszerekezettel fogunk megismerkedni: a keresőfákkal. Már a nevük is sejteti azt, hogy milyen funkciókat fognak ezek kiválóan ellátni: Ha meg szeretnénk keresni egy, az adatszerkezetben fellelhető értéket, akkor a keresőfák fogják a leggyorsabb futási időt biztosítani. Természetesen a keresőfáknak számos variánsa létezik, a konkrét feladattól is függ, hogy pontosan melyiket kell majd használnunk. Az erre a kurzusra épülő Algoritmusok és Adatszerkezetek II. gyakorlaton sokkal részletesebben is kielemezzük a keresőfákat.\n",
    "## Néhány definició\n",
    "- **Fa:** Összefüggő, körmentes gráf\n",
    "- **Levél:** A fa elsőfokú csúcsai\n",
    "- **Belső csúcs:** Nem levél csúcs a fában\n",
    "- **Gyökeres fa:** Kitüntetett csúccsal (gyökér) rendelkező fa\n",
    "- **Bináris fa:** Gyökeres fa, ahol minden csúcsnak *legfeljebb* 2 gyereke van\n",
    "- **Teljes bináris fa:** Olyan bináris fa, amelyben minden szint \"teljesen ki van töltve\".\n",
    "- **Majdnem teljes bináris fa:** Olyan bináris fa, amelyben maximum a legalsó szint nincs teljesen kitöltve, csak balról jobbra haladva kitöltött néhány elemig\n",
    "- **Kiegyensúlyozott bináris fa:** Olyan bináris fa, ahol minden csúcs bal és jobboldali részfáinak magassága max. 1-gyel tér el.\n",
    "\n",
    "\n",
    "**Kérdés:** Hány éle van egy fának, ha $n$ csúcsa van?\n",
    "\n",
    "**Válasz:** $n-1$, hiszen ennyi minimum kell ahhoz, hogy összefüggő legyen a gráf, $n$ él esetében viszont már kör képződik valahol.\n",
    "\n",
    "## Fa ábrázolások\n",
    "- Gyerek éllista\n",
    "- Első fiú, apa, testvér\n",
    "- Bináris fa"
   ]
  },
  {
   "cell_type": "code",
   "execution_count": 4,
   "metadata": {},
   "outputs": [],
   "source": [
    "# Leggyakoribb bináris fa ábrázolás\n",
    "class Node(object):\n",
    "    def __init__(self, key):\n",
    "        self.key = key\n",
    "        self.leftChild = None\n",
    "        self.rightChild = None\n",
    "\n",
    "a = Node(3)\n",
    "b = Node(4)\n",
    "c = Node(9)\n",
    "a.leftChild = b\n",
    "a.rightChild = c\n",
    "\n",
    "    "
   ]
  },
  {
   "cell_type": "markdown",
   "metadata": {},
   "source": [
    "## Bináris keresőfa (Binary search tree - BST)\n",
    "**Def.:** Bináris keresőfának nevezünk minden olyan bináris fát, amelyre teljesül, hogy bármely, fában szereplő $x$ csúcsra igaz az, hogy ha $y$ az $x$ baloldai részfájának egy csúcsa, akkor $key(y) \\leq key(x)$, ha pedig $y$ az $x$ jobboldali részfájának egy csúcsa, akkor $key(y) \\geq key(x)$."
   ]
  }
 ],
 "metadata": {
  "kernelspec": {
   "display_name": "Python 3",
   "language": "python",
   "name": "python3"
  },
  "language_info": {
   "codemirror_mode": {
    "name": "ipython",
    "version": 3
   },
   "file_extension": ".py",
   "mimetype": "text/x-python",
   "name": "python",
   "nbconvert_exporter": "python",
   "pygments_lexer": "ipython3",
   "version": "3.8.10"
  }
 },
 "nbformat": 4,
 "nbformat_minor": 5
}
