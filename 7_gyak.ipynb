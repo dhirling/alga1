{
 "cells": [
  {
   "cell_type": "markdown",
   "id": "9ea7bba9",
   "metadata": {},
   "source": [
    "# 7. Gyakorlat (keresőfák)\n",
    "A mai órán az egyik legfontosabb adatszerekezettel fogunk megismerkedni: a keresőfákkal. Már a nevük is sejteti azt, hogy milyen funkciókat fognak ezek kiválóan ellátni: Ha meg szeretnénk keresni egy, az adatszerkezetben fellelhető értéket, akkor a keresőfák fogják a leggyorsabb futási időt biztosítani. Természetesen a keresőfáknak számos variánsa létezik, a konkrét feladattól is függ, hogy pontosan melyiket kell majd használnunk. Az erre a kurzusra épülő Algoritmusok és Adatszerkezetek II. gyakorlaton sokkal részletesebben is kielemezzük a keresőfákat.\n",
    "## Néhány definició\n",
    "- **Fa:** Összefüggő, körmentes gráf\n",
    "- **Levél:** A fa elsőfokú csúcsai\n",
    "- **Belső csúcs:** Nem levél csúcs a fában\n",
    "- **Gyökeres fa:** Kitüntetett csúccsal (gyökér) rendelkező fa\n",
    "- **Bináris fa:** Gyökeres fa, ahol minden csúcsnak *legfeljebb* 2 gyereke van\n",
    "\n",
    "\n",
    "**Kérdés:** Hány éle van egy fának, ha $n$ csúcsa van?\n",
    "\n",
    "**Válasz:** $n-1$, hiszen ennyi minimum kell ahhoz, hogy összefüggő legyen a gráf, $n$ él esetében viszont már kör képződik valahol.\n",
    "\n",
    "## Fa ábrázolások"
   ]
  },
  {
   "cell_type": "code",
   "execution_count": null,
   "id": "a3345c24",
   "metadata": {},
   "outputs": [],
   "source": []
  }
 ],
 "metadata": {
  "kernelspec": {
   "display_name": "Python 3 (ipykernel)",
   "language": "python",
   "name": "python3"
  },
  "language_info": {
   "codemirror_mode": {
    "name": "ipython",
    "version": 3
   },
   "file_extension": ".py",
   "mimetype": "text/x-python",
   "name": "python",
   "nbconvert_exporter": "python",
   "pygments_lexer": "ipython3",
   "version": "3.9.5"
  }
 },
 "nbformat": 4,
 "nbformat_minor": 5
}
