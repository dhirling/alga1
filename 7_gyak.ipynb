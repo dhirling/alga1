{
 "cells": [
  {
   "cell_type": "markdown",
   "metadata": {},
   "source": [
    "# 7. Gyakorlat (keresőfák)\n",
    "A mai órán az egyik legfontosabb adatszerekezettel fogunk megismerkedni: a keresőfákkal. Már a nevük is sejteti azt, hogy milyen funkciókat fognak ezek kiválóan ellátni: Ha meg szeretnénk keresni egy, az adatszerkezetben fellelhető értéket, akkor a keresőfák fogják a leggyorsabb futási időt biztosítani. Természetesen a keresőfáknak számos variánsa létezik, a konkrét feladattól is függ, hogy pontosan melyiket kell majd használnunk. Az erre a kurzusra épülő Algoritmusok és Adatszerkezetek II. gyakorlaton sokkal részletesebben is kielemezzük a keresőfákat.\n",
    "## Néhány definició\n",
    "- **Fa:** Összefüggő, körmentes gráf\n",
    "- **Levél:** A fa elsőfokú csúcsai\n",
    "- **Belső csúcs:** Nem levél csúcs a fában\n",
    "- **Gyökeres fa:** Kitüntetett csúccsal (gyökér) rendelkező fa\n",
    "- **Bináris fa:** Gyökeres fa, ahol minden csúcsnak *legfeljebb* 2 gyereke van\n",
    "- **Teljes bináris fa:** Olyan bináris fa, amelyben minden szint \"teljesen ki van töltve\".\n",
    "- **Majdnem teljes bináris fa:** Olyan bináris fa, amelyben maximum a legalsó szint nincs teljesen kitöltve, csak balról jobbra haladva kitöltött néhány elemig\n",
    "- **Kiegyensúlyozott bináris fa:** Olyan bináris fa, ahol minden csúcs bal és jobboldali részfáinak magassága max. 1-gyel tér el.\n",
    "\n",
    "\n",
    "**Kérdés:** Hány éle van egy fának, ha $n$ csúcsa van?\n",
    "\n",
    "**Válasz:** $n-1$, hiszen ennyi minimum kell ahhoz, hogy összefüggő legyen a gráf, $n$ él esetében viszont már kör képződik valahol.\n",
    "\n",
    "**Feladatmegoldás:** Békési József PPT 7. gyakorlat 1. feladat (gyakorlaton megoldjuk)\n",
    "\n",
    "## Fa ábrázolások\n",
    "- Gyerek éllista\n",
    "- Első gyerek, testvér\n",
    "- Bináris fa"
   ]
  },
  {
   "cell_type": "code",
   "execution_count": 71,
   "metadata": {},
   "outputs": [
    {
     "name": "stdout",
     "output_type": "stream",
     "text": [
      "[Key: 3, Left: [Key: 4, Left: None, Right: None], Right: [Key: 9, Left: None, Right: None]]\n"
     ]
    }
   ],
   "source": [
    "# Gyerek éllista ábrázolás\n",
    "class Node_childListRepr(object):\n",
    "    def __init__(self):\n",
    "        self.key = None\n",
    "        self.children = []\n",
    "\n",
    "# Első gyerek, testvér ábrázolás\n",
    "class Node_siblingRepr(object):\n",
    "    def __init__(self):\n",
    "        self.key = None\n",
    "        self.sibling = None\n",
    "        self.firstChild = None\n",
    "\n",
    "# Leggyakoribb: bináris fa ábrázolás\n",
    "class Node(object):\n",
    "    def __init__(self, key):\n",
    "        self.key = key\n",
    "        self.left = None\n",
    "        self.right = None\n",
    "    \n",
    "    def __repr__(self):\n",
    "        # a __repr__ függvény megmondja, hogy milyen formátumban legyen kiírva egy Node típusú objektum.\n",
    "        return f'[Key: {self.key}, Left: {self.left}, Right: {self.right}]'\n",
    "\n",
    "a = Node(3)\n",
    "b = Node(4)\n",
    "c = Node(9)\n",
    "a.left = b\n",
    "a.right = c\n",
    "print(a)"
   ]
  },
  {
   "cell_type": "markdown",
   "metadata": {},
   "source": [
    "## Bináris keresőfa (Binary search tree - BST)\n",
    "**Def.:** Bináris keresőfának nevezünk minden olyan bináris fát, amelyre teljesül, hogy bármely, fában szereplő $x$ csúcsra igaz az, hogy ha $y$ az $x$ baloldai részfájának egy csúcsa, akkor $key(y) \\leq key(x)$, ha pedig $y$ az $x$ jobboldali részfájának egy csúcsa, akkor $key(y) \\geq key(x)$.\n",
    "\n",
    "**Feladatmegoldás:** Próbáljuk kigondolni, hogyan lehet keresni, beszúrni egy ilyen adatszerkezetbe. Hogyan találjuk meg egy részfa minimális, maximális csúcsait? Ehhez felhasználjuk a gyakorlaton a Békési József PPT 7. gyakorlat feladatait. Van ötletünk a törlésre is?"
   ]
  },
  {
   "cell_type": "code",
   "execution_count": 63,
   "metadata": {},
   "outputs": [],
   "source": [
    "def search(root, key):\n",
    "    '''\n",
    "    A keresés nagyon egyszerűen megvalósítható rekurzióval:\n",
    "    inputunk egy csúcs, ahonnan indítjuk a keresést, és a keresett kulcs.\n",
    "    '''\n",
    "    # ha megtaláltuk a keresett kulcsot, térjünk vissza a csúccsal, \n",
    "    # ha pedig a fa aljára értünk, de nincs meg a csúcs, akkor null-lal térjünk vissza.\n",
    "    if root.key == key or root is None:\n",
    "        return root\n",
    "    # ha az aktuális kulcsnál nagyobb értéket keresünk, keressünk tovább jobbra.\n",
    "    if key > root.key:\n",
    "        return search(root.right, key)\n",
    "    # ha az aktuális kulcsnál kisebb értéket keresünk, keressünk tovább balra.\n",
    "    if key < root.key:\n",
    "        return search(root.left, key)\n",
    "\n",
    "    \n",
    "def insert(root, key):\n",
    "    '''\n",
    "    A beszúrás hasonlóan egyszerű:\n",
    "    inputunk egy csúcs, ahonnan indítjuk a beszúrást (kezdetben a gyökér), és a beszúrandó kulcs.\n",
    "    '''\n",
    "    # ha elértünk egy olyan helyet, ahol még nincs csúcs, akkor erre a helyre mehet a beszúrás.\n",
    "    if root is None:\n",
    "        return Node(key)\n",
    "    # ha az aktuális kulcsnál nagyobb a beszúrandó kulcs, akkor szúrjuk be a kulcsot rekurzívan a jobb részfába.\n",
    "    if key > root.key:\n",
    "        root.right = insert(root.right, key)\n",
    "    # ha az aktuális kulcsnál kisebb a beszúrandó kulcs, akkor szúrjuk be a kulcsot rekurzívan a bal részfába.\n",
    "    if key < root.key:\n",
    "        root.left = insert(root.left, key)\n",
    "        \n",
    "    return root\n",
    "\n",
    "# megkeresi az adott gyökérrel rendelkező fában a minimális csúcsot. \n",
    "# Folyamatos balra haladással meg fogjuk találni.\n",
    "def minNode(root):\n",
    "    currNode = root\n",
    "    while (currNode is not None) and (currNode.left is not None):\n",
    "        currNode = currNode.left\n",
    "        \n",
    "    return currNode\n",
    "\n",
    "# megkeresi az adott gyökérrel rendelkező fában a maximális csúcsot. \n",
    "# Folyamatos jobbra haladással meg fogjuk találni.\n",
    "def maxNode(root):\n",
    "    currNode = root\n",
    "    while (currNode is not None) and (currNode.right is not None):\n",
    "        currNode = currNode.right\n",
    "        \n",
    "    return currNode\n",
    "\n",
    "def remove(root, key):\n",
    "    '''\n",
    "    Törlésnél inputunk egy csúcs, ahonnan indítjuk a törlést (kezdetben a gyökér), és a törlendő kulcs.\n",
    "    '''\n",
    "    # ha az aktuális kulcsnál nagyobb a törlendő kulcs, akkor töröljük a kulcsot rekurzívan a jobb részfából.\n",
    "    if key > root.key:\n",
    "        root.right = remove(root.right, key)\n",
    "    # ha az aktuális kulcsnál kisebb a törlendő kulcs, akkor töröljük a kulcsot rekurzívan a bal részfából.\n",
    "    if key < root.key:\n",
    "        root.left = remove(root.left, key)\n",
    "    \n",
    "    # ha megtaláltuk a törlendő kulcsot, akkor 3 esetet különböztetünk meg.\n",
    "    if key == root.key:\n",
    "        \n",
    "        # ha nincs gyereke a csúcsnak, akkor egyszerűen null-ra állítjuk.\n",
    "        if root.left is None and root.right is None:\n",
    "            return None\n",
    "        \n",
    "        # ha csak jobb gyereke van, akkor berakjuk a jobb gyereket a helyére.\n",
    "        elif root.left is None:\n",
    "            return root.right\n",
    "        \n",
    "        # ha csak bal gyereke van, akkor berakjuk a bal gyereket a helyére.\n",
    "        elif root.right is None:\n",
    "            return root.left\n",
    "        \n",
    "        # ha két gyereke van, akkor megkeressük a megelőzőjét (vagy rákövetkezőjét),\n",
    "        # beírjuk ennek a kulcsát a törlendő helyére, majd kitöröljük a megelőzőt (vagy rákövetkezőt).\n",
    "        else:\n",
    "            tmp = minNode(root.right)\n",
    "            root.key = tmp.key\n",
    "            root.right = remove(root.right, tmp.key)\n",
    "        \n",
    "    "
   ]
  },
  {
   "cell_type": "code",
   "execution_count": 66,
   "metadata": {},
   "outputs": [
    {
     "name": "stdout",
     "output_type": "stream",
     "text": [
      "[Key: 3, Left: [Key: 2, Left: None, Right: None], Right: [Key: 7, Left: None, Right: [Key: 8, Left: None, Right: None]]]\n"
     ]
    }
   ],
   "source": [
    "a = Node(3)\n",
    "insert(a,7)\n",
    "insert(a,8)\n",
    "insert(a,2)\n",
    "print(a)"
   ]
  },
  {
   "cell_type": "code",
   "execution_count": 65,
   "metadata": {},
   "outputs": [
    {
     "name": "stdout",
     "output_type": "stream",
     "text": [
      "[Key: 3, Left: None, Right: [Key: 7, Left: None, Right: [Key: 8, Left: None, Right: None]]]\n"
     ]
    }
   ],
   "source": [
    "remove(a,2)\n",
    "print(a)"
   ]
  },
  {
   "cell_type": "markdown",
   "metadata": {},
   "source": [
    "## Futási idők\n",
    "Gondoljuk végig egy kicsit, hogy legrosszabb esetben milyen futási időket fogunk kapni beszúrásra, törlésre, keresésre. Ha emlékszünk még az első gyakorlatokra, pl. a bináris keresésre, mikor úgy kerestünk egy rendezett tömbben, hogy folyamatosan felezgettük a tömbünket, akkor gondolhatnánk, hogy tulajdonképpen itt is erről van szó: egy szép BST esetében egy jobbra, vagy balra lépéssel felezünk egyet az adathalmazon, tehát ha $n$ a BST-ben található csúcsok száma, akkor ezek a műveletek $O(\\log_2 n)$-esek lesznek. Igenám, de mi van akkor, ha a fánk nagyon \"csúnya\", teljesen balra, vagy jobbra \"lejt\"? Ezekben az esetekben nem tudjuk kihasználni a BST előnyeit, az összes művelet $O(n)$ költségű lesz, tehát ennyi erővel listába is rakhattam volna őket. Arról, hogy ezt a problémát hogyan lehet kivédeni, és milyen módszerek vannak arra, hogy \"egyensúlyban tartsuk\" ezeket a keresőfákat, az Algoritmusok és adatszerkezetek II. kurzuson fogunk beszélni. Végül lássunk egy ilyen \"rossz\" példát:"
   ]
  },
  {
   "cell_type": "code",
   "execution_count": 67,
   "metadata": {},
   "outputs": [
    {
     "name": "stdout",
     "output_type": "stream",
     "text": [
      "[Key: 1, Left: None, Right: [Key: 2, Left: None, Right: [Key: 3, Left: None, Right: [Key: 4, Left: None, Right: [Key: 5, Left: None, Right: [Key: 6, Left: None, Right: None]]]]]]\n"
     ]
    }
   ],
   "source": [
    "a = Node(1)\n",
    "insert(a,2)\n",
    "insert(a,3)\n",
    "insert(a,4)\n",
    "insert(a,5)\n",
    "insert(a,6)\n",
    "print(a)"
   ]
  },
  {
   "cell_type": "code",
   "execution_count": null,
   "metadata": {},
   "outputs": [],
   "source": []
  }
 ],
 "metadata": {
  "kernelspec": {
   "display_name": "Python 3",
   "language": "python",
   "name": "python3"
  },
  "language_info": {
   "codemirror_mode": {
    "name": "ipython",
    "version": 3
   },
   "file_extension": ".py",
   "mimetype": "text/x-python",
   "name": "python",
   "nbconvert_exporter": "python",
   "pygments_lexer": "ipython3",
   "version": "3.8.10"
  }
 },
 "nbformat": 4,
 "nbformat_minor": 5
}
