{
 "cells": [
  {
   "cell_type": "markdown",
   "id": "b503e5c5",
   "metadata": {},
   "source": [
    "# 4. gyakorlat (Dinamikus programozás)\n",
    "A mai órán az előző gyakorlat példáit vesszük alapul, megnézzük, hogy miért nem érdemes mindig rekurziót használni, még ha kézenfekvő is lenne, valamint megnézzük, hogy mi az, amit érdemes csinálni helyette. A gyakorlat végén áttekintjük, hogy mely esetek azok, ahol rekurziót, és melyek azok, ahol pedig DP-t érdemes használni.\n",
    "\n",
    "## Amikor a rekurzió csődöt mond\n",
    "Tekintsünk egy egyszerű, előző órai példát, ahol rekurzív eljárást készítettünk a Fibonacci-sorozat *n.* tagjának meghatározásához. A gyakorlathoz tartozó notebookban már leírtam, hogy ennek az eljárásnak a futási ideje *O(2^n)*, ami gyakorlatilag azt jelenti, hogy valós helyzetekben használhatatlan. Ennek oka abban rejlik, hogy számos eredményt újra és újra kiszámolunk ahelyett, hogy valamilyen módon \"megjegyeznénk\":\n",
    "![Fibonacci rekurziós hívási fa](img/4_fib.png)\n",
    "\n",
    "Nézzük is meg, hogyan birkózik meg a rekurzív algoritmus egy kicsit nagyobb *n*-re:"
   ]
  },
  {
   "cell_type": "code",
   "execution_count": 1,
   "id": "b0e6c7bc",
   "metadata": {},
   "outputs": [],
   "source": [
    "def fibonacci_recursive(n):\n",
    "    if n==1 or n==2:\n",
    "        return 1\n",
    "    return fibonacci_recursive(n-1)+fibonacci_recursive(n-2)"
   ]
  },
  {
   "cell_type": "code",
   "execution_count": 8,
   "id": "e8fc3345",
   "metadata": {},
   "outputs": [
    {
     "data": {
      "text/plain": [
       "24157817"
      ]
     },
     "execution_count": 8,
     "metadata": {},
     "output_type": "execute_result"
    }
   ],
   "source": [
    "fibonacci_recursive(37)"
   ]
  },
  {
   "cell_type": "markdown",
   "id": "0312bb3a",
   "metadata": {},
   "source": [
    "## Dinamikus programozási problémák\n",
    "Abban az esetben, ha felfedezzük egy feladatban a részproblémákra bonthatóságot, kicsit tovább kell még vizsgálódnunk. Amennyiben a részproblémák nem függetlenek egymástól (lásd előző példa: *fib(4)* nem független *fib(3)*-tól, hiszen tartalmazza azt), **ne használjunk rekurziót**, helyette válasszuk a dinamikus programozást, melynek lényege, hogy az egyes részproblémák megoldásait eltároljuk, így amennyiben bármikor szükség van rájuk, nem kell újraszámolni őket. Természetesen [nincs ingyen ebéd](https://en.wikipedia.org/wiki/No_free_lunch_theorem), ilyenkor memóriára van szükség, viszont ezzel a módszerrel lineáris (*O(n)*), vagy polinomiális (*O(n^a)*, ahol *a>1*) időben megoldhatók a rekurzióval exponenciális idejű problémák. Nézzük az előző órai lépcsős feladatot rekurzívan, ill. DP megoldással, vizualizálva az eljárás végrehajtásához szükséges lépéseket növekvő *n*-ekre:"
   ]
  },
  {
   "cell_type": "code",
   "execution_count": 9,
   "id": "b017174f",
   "metadata": {},
   "outputs": [],
   "source": [
    "# vizualizációs könyvtár betöltése\n",
    "import matplotlib.pyplot as plt"
   ]
  },
  {
   "cell_type": "code",
   "execution_count": 35,
   "id": "4f51526c",
   "metadata": {},
   "outputs": [],
   "source": [
    "# az eljárásnak adunk egy c paramétert is, ebben tároljuk a végrehajtott utasítások számát.\n",
    "def stairs_r(n,c):\n",
    "    if n==1 or n==2:\n",
    "        return n\n",
    "    c[0] += 1\n",
    "    return stairs_r(n-1,c)+stairs_r(n-2,c)"
   ]
  },
  {
   "cell_type": "code",
   "execution_count": 36,
   "id": "6f3a1053",
   "metadata": {},
   "outputs": [],
   "source": [
    "def stairs_dp(n,c):\n",
    "    dp_array = [1, 2]\n",
    "    for i in range(2, n):\n",
    "        c[0] += 1\n",
    "        dp_array.append(dp_array[i-1]+dp_array[i-2])\n",
    "    return dp_array[n-1]"
   ]
  },
  {
   "cell_type": "code",
   "execution_count": 37,
   "id": "57b6c322",
   "metadata": {},
   "outputs": [
    {
     "data": {
      "image/png": "[encoded data removed]",
      "text/plain": [
       "<Figure size 1008x576 with 1 Axes>"
      ]
     },
     "metadata": {
      "needs_background": "light"
     },
     "output_type": "display_data"
    }
   ],
   "source": [
    "inputs = [i for i in range(3,21)] # inputs = [3, 4, ..., 20]\n",
    "recursive_times = [] # ebben a listában tároljuk a rekurzív algoritmushoz tartozó futási időket\n",
    "dp_times = [] # itt pedig a dp-seket\n",
    "\n",
    "for n in inputs:\n",
    "    c_r = [0] # rekurzív számláló, listába ágyazva, hogy referenciaként adódjon át\n",
    "    c_dp = [0] # dp számláló\n",
    "    stairs_r(n, c_r)\n",
    "    stairs_dp(n, c_dp)\n",
    "    recursive_times.append(c_r[0])\n",
    "    dp_times.append(c_dp[0])\n",
    "    \n",
    "plt.figure(figsize=(14,8))\n",
    "plt.title('Lépcsős probléma megoldásának futási ideje különböző algoritmusokkal')\n",
    "plt.xlabel('Input mérete (n)')\n",
    "plt.ylabel('Futási idő')\n",
    "plt.xticks([i for i in range(3,21,2)])\n",
    "plt.yticks([])\n",
    "plt.plot(inputs,dp_times, label=\"Dinamikus módszer\")\n",
    "plt.plot(inputs,recursive_times, label=\"Rekurzív módszer\")\n",
    "plt.legend()\n",
    "plt.show()\n",
    "    "
   ]
  },
  {
   "cell_type": "markdown",
   "id": "2a644e94",
   "metadata": {},
   "source": [
    "Látható, hogy a DP módszer jóval hatékonyabb, azonban nyilván ehhez memória szükséges, ami azért erre a problémára nem olyan vészes. A fenti implementációval tulajdonképpen *O(n)* tárra van szükségünk ([igen, tárigényre is használjuk a nagy ordó jelölést](https://en.wikipedia.org/wiki/Space_complexity)), de ha belegondolunk, elég mindig az aktuálisan számolandó eredményt megelőző két számot tárolni, ebben az esetben a tárigény már csak *O(1)*.\n",
    "### Sakktáblás feladat\n",
    "Folytassuk tovább szintén egy előző órai feladattal (a leírást lásd a 3. gyakorlati jegyzetben):"
   ]
  },
  {
   "cell_type": "code",
   "execution_count": 39,
   "id": "88f122a6",
   "metadata": {},
   "outputs": [],
   "source": [
    "# numerikus könyvtár betöltése (többdimenziós tömbök kezeléséhez ez már sokkal kényelmesebb)\n",
    "import numpy as np"
   ]
  },
  {
   "cell_type": "code",
   "execution_count": 45,
   "id": "f0feac57",
   "metadata": {},
   "outputs": [],
   "source": [
    "# rekurzív megoldás\n",
    "def chess_r(n,k):\n",
    "    if n==1 or k==1:\n",
    "        return 1\n",
    "    return chess_r(n-1,k)+chess_r(n,k-1)"
   ]
  },
  {
   "cell_type": "code",
   "execution_count": 46,
   "id": "ab1cc9d9",
   "metadata": {},
   "outputs": [],
   "source": [
    "# DP megoldás\n",
    "def chess_dp(n,k):\n",
    "    chessboard = np.ndarray((n,k)) # n x k méretű, 2D tömb\n",
    "    \n",
    "    # minden sor első oszlopát feltöltjük 1-esekkel\n",
    "    for i in range(0, n):\n",
    "        chessboard[i,0] = 1\n",
    "        \n",
    "    # hasonlóan a sorokkal\n",
    "    for j in range(0, k):\n",
    "        chessboard[0,j] = 1\n",
    "        \n",
    "    # az előző órán meghatározott összefüggéssel feltöltjük a táblázatot\n",
    "    for i in range(1, n):\n",
    "        for j in range(1, k):\n",
    "            chessboard[i,j] = chessboard[i-1,j] + chessboard[i,j-1]\n",
    "            \n",
    "    return chessboard[n-1, k-1]"
   ]
  },
  {
   "cell_type": "code",
   "execution_count": 48,
   "id": "90871b8c",
   "metadata": {},
   "outputs": [
    {
     "data": {
      "text/plain": [
       "40116600"
      ]
     },
     "execution_count": 48,
     "metadata": {},
     "output_type": "execute_result"
    }
   ],
   "source": [
    "chess_r(15,15)"
   ]
  },
  {
   "cell_type": "code",
   "execution_count": 49,
   "id": "f1dfa048",
   "metadata": {},
   "outputs": [
    {
     "data": {
      "text/plain": [
       "40116600.0"
      ]
     },
     "execution_count": 49,
     "metadata": {},
     "output_type": "execute_result"
    }
   ],
   "source": [
    "chess_dp(15,15)"
   ]
  },
  {
   "cell_type": "markdown",
   "id": "13a618ae",
   "metadata": {},
   "source": [
    "Vegyük észre, hogy ebben az esetben a futási idő *O(n x k)* (ez kb. négyzetes, ha *n* és *k* nagyjából megegyeznek), a tárigény pedig szintén *O(n x k)*, hiszen ekkora tömb kell az eredmények tárolásához, ennél azonban szintén tudunk jobbat: mivel sorról-sorra haladunk felfelé a táblázat kitöltésével, mindig csak az éppen \"alattunk lévő\" sort, illetve az aktuálisat kell eltárolnunk, hiszen ezek kellenek a számolások megvalósításához, ezzel megint csak faragható a tárigény.\n",
    "\n",
    "### Pénzváltási feladat\n",
    "Adottak különböző pénzérmék korlátlan mennyiségben (*P1, P2, ..., Pn*, és jellemzően *P1 = 1*), és egy összeg (*F*). Adjuk meg, hogy\n",
    "összesen hány különböző módon lehet felváltani az összeget a megadott pénzérmékkel!\n",
    "\n",
    "**Megoldás:** Két eset következhet be egy érme kiválasztásakor:\n",
    "1. Felhasználunk egy *Pn* érmét, a probléma pedig ugyanaz marad, csupán most már *F-Pn* összegre\n",
    "2. Nem használjuk fel a *Pn* érmét, ekkor viszont a későbbiekben sem fogjuk már (hiszen ha bármikor máskor megtennénk, akkor mindegy, hogy most, vagy később tesszük meg), így a probléma továbbra is *F* összeg felváltása, de most már csak a *P1, P2, ..., P(n-1)* érmék felhasználásával.\n",
    "\n",
    "Mivel minden esetet szeretnénk összeszámolni, ezért az aktuális állapotban ezen két részprobléma eseményszámának összege lesz az eredeti probléma megoldása. Ezek alapján, ha *C(P,n,F)* jelölti az *F* összeg összes lehetséges kifizetését a *P* érmetömb első *n* érméjének felhasználásával, akkor felírható, hogy\n",
    "\n",
    "*C(P,n,F) = C(P,n,F-Pn)+C(P,n-1,F)*.\n",
    "\n",
    "Az alapesetek is látszódnak innen már: amennyiben csak 1-es érméink vannak, vagy az F összeg már csak 1-esekből rakható ki, a részfeladat megoldása 1."
   ]
  },
  {
   "cell_type": "code",
   "execution_count": 17,
   "id": "4a6edff5",
   "metadata": {},
   "outputs": [],
   "source": [
    "def coinChange(P, n, F):\n",
    "    table = np.ones((F+1,))\n",
    "    table[0] = 1\n",
    "    print(table.shape)\n",
    "    for i in range(0, n):\n",
    "        for j in range(P[i], F+1):\n",
    "            table[j] += table[j-P[i]]\n",
    "    return table[n]"
   ]
  },
  {
   "cell_type": "code",
   "execution_count": 18,
   "id": "b47588f2",
   "metadata": {},
   "outputs": [
    {
     "name": "stdout",
     "output_type": "stream",
     "text": [
      "(12,)\n"
     ]
    },
    {
     "data": {
      "text/plain": [
       "4.0"
      ]
     },
     "execution_count": 18,
     "metadata": {},
     "output_type": "execute_result"
    }
   ],
   "source": [
    "coinChange([1,5,7],3,11)"
   ]
  },
  {
   "cell_type": "markdown",
   "id": "ca57ea17",
   "metadata": {},
   "source": [
    "### Pontgyűjtő feladat\n",
    "Adott egy *n x k* méretű tábla. Minden *(i,j)* mezőre meg van adva egy *c* pozitív szám, ami a mezőről begyűjthető érték. Egy játékos a bal alsó sarokból szeretne eljutni a jobb felső sarokba úgy, hogy csak jobbra és felfelé léphet a szomszédos mezőre. Az útja során összegyűjtheti a mezőkről az értékeket. Mennyi értéket tudunk összeszedni maximálisan? Hogyan határoznánk meg ezt az utat, amin a maximális értéket gyűjthetjük?"
   ]
  },
  {
   "cell_type": "code",
   "execution_count": 1,
   "id": "9ed40387",
   "metadata": {},
   "outputs": [],
   "source": [
    "import numpy as np\n",
    "\n",
    "def maxCost(C, n, k):\n",
    "    maxArr = np.ndarray((n,k)) # eredmény tömb\n",
    "    maxArr[0,0] = C[0,0]\n",
    "    \n",
    "    for i in range(1, n):\n",
    "        maxArr[i,0] = maxArr[i-1,0] + C[i,0]\n",
    "        \n",
    "    for j in range(1, k):\n",
    "        maxArr[0,j] = maxArr[0,j-1] + C[0,j]\n",
    "        \n",
    "    for i in range(1, n):\n",
    "        for j in range(1, k):\n",
    "            maxArr[i,j] = C[i,j] + max(maxArr[i-1,j], maxArr[i,j-1])\n",
    "    \n",
    "    return maxArr[n-1,k-1]"
   ]
  },
  {
   "cell_type": "code",
   "execution_count": 2,
   "id": "a31c30a8",
   "metadata": {},
   "outputs": [
    {
     "data": {
      "text/plain": [
       "18.0"
      ]
     },
     "execution_count": 2,
     "metadata": {},
     "output_type": "execute_result"
    }
   ],
   "source": [
    "C = np.array([\n",
    "            [1, 2, 4, 2],\n",
    "            [2, 5, 1, 3],\n",
    "            [1, 4, 4, 2]\n",
    "            ])\n",
    "maxCost(C,3,4)"
   ]
  },
  {
   "cell_type": "code",
   "execution_count": null,
   "id": "fa8daefc",
   "metadata": {},
   "outputs": [],
   "source": []
  }
 ],
 "metadata": {
  "kernelspec": {
   "display_name": "Python 3 (ipykernel)",
   "language": "python",
   "name": "python3"
  },
  "language_info": {
   "codemirror_mode": {
    "name": "ipython",
    "version": 3
   },
   "file_extension": ".py",
   "mimetype": "text/x-python",
   "name": "python",
   "nbconvert_exporter": "python",
   "pygments_lexer": "ipython3",
   "version": "3.9.5"
  }
 },
 "nbformat": 4,
 "nbformat_minor": 5
}
