{
 "cells": [
  {
   "cell_type": "markdown",
   "id": "0b7f2285",
   "metadata": {},
   "source": [
    "# 5. gyakorlat (Mohó algoritmusok)\n",
    "Mielőtt belevágnánk az anyagba, lássuk, hogy mit kell majd tudni a jövő heti ZH-ra:\n",
    "\n",
    "## ZH témák\n",
    "- Algoritmusok elemzése (kód alapján futási idő, futási időből ordó kiszámolása, futási idők összehasonlítása, kódok értelmezésének képessége)\n",
    "- Oszd meg és uralkodj, rekurzió (szöveges feladat alapján rekurzív összefüggések felírása, feladatok megoldása, hátrányok, előnyök ismerete)\n",
    "- Dinamikus programozás (szöveges feladat alapján táblázat felrajzolása és kitöltése a feltárt összefüggéseknek megfelelően, hátrányok, előnyök ismerete)\n",
    "- Mohó algoritmusok (algoritmusok tervezése, feladat alapján mohó stratégia végrehajtása, optimalitás eldöntése)\n",
    "\n",
    "## Mohó algoritmusok\n",
    "A mai órán a mohó problémamegoldási stratégiáról fogunk beszélni. Tipikusan optimalizálási feladatoknál használjuk ezeket (pl. az előző órai pontgyűjtős feladat: adjunk meg egy olyan útvonalat, hogy a maximális pontszámot gyűjtsük össze a célig, vagy pénzváltási feladat: hogyan tudjuk minimális számú érmével felváltani a kívánt összeget?), a stratégiánk pedig a következő lesz:\n",
    "\n",
    "Ilyen feladatok megoldásánál minden lépésben egy döntést kell meghozni (pl. merre lépek, melyik érmét használom fel következőnek, stb.), a döntés után pedig az eredeti feladat egy részproblémáját kell tovább oldanom (pl. egy lépés megtétele után már kisebb a táblázat, amit be kell járnom, egy érme felhasználása után pedig már kisebb az összeg, amit fel kell váltanom). **A mohó stratégia lényege**, hogy minden egyes lépésben a döntés meghozatalát csakis a lokálisan elérhető lehetőségek befolyásolják, ez alapján döntök arról, hogy mit fogok csinálni (pontgyűjtő feladatnál pl. megnézem, hogy fölfelé, vagy jobbra található-e a nagyobb pontszám és arra fogok menni, amerre nagyobb, függetlenül minden más tényezőtől), magyarul **lokálisan optimális** döntést hozok. Könnyen látható, hogy ez nem mindig lesz jó megközelítés (pontosan a pontgyűjtő feladat jó példa erre, tekintsük pl az alábbi táblázatot):\n",
    "\n",
    "                                                10  2  4  2\n",
    "\n",
    "                                                2  5  1  3\n",
    "\n",
    "                                                1  4  4  2\n",
    "                                                \n",
    "Ha mohó stratégiát használok, akkor az 1->4->5->2->4->2 útvonalat fogom választani, holott látszik, hogy a 10-es mezőt mindenképp meg kellene látogatnom, ehhez azonban az 1. lépést nem mohó módon kellene megválasztani (éppen ezért erre a problémára az előző órán nézett DP algoritmus lesz jó, nem pedig a mohó). \n",
    "\n",
    "Vannak azonban olyan feladatok is, amelyekre jól fog működni a mohó algoritmus is, ehhez viszont ezt bizonyítani kell tudni. Ez a következőképp néz ki:\n",
    "\n",
    "1. Fogalmazzuk meg az optimalizálási feladatot úgy, hogy minden lépés hatására **pontosan egy** megoldandó részprobléma keletkezzen\n",
    "2. Bizonyítsuk be, hogy az eredeti probléma megoldható optimálisan úgy, hogy mohó módszerrel választom ki a következő lépést\n",
    "3. Bizonyítsuk be, hogy a mohó választás hatására olyan részproblémát kapunk, aminek az optimális megoldása + a mohó lépés megadja az eredeti problémának is az optimális megoldását.\n",
    "\n",
    "Gyakorlaton a bizonyításokkal nem fogunk foglalkozni (előadásra viszont kellhet), viszont megnézünk bizonyos feladatokat, megnézzük, hogy a mohó módszer melyekre működik és melyekre nem.\n",
    "\n",
    "### Hátizsák feladat\n",
    "Egy adott hátizsákba tárgyakat akarunk pakolni. Adott $n$ tárgy, mindegyikhez tartozik egy $f_i$ (valós szám) fontossági érték és egy $s_i$ (egész szám) súlyérték (tehát az $i.$ tárgy reprezentálható az $(f_i,s_i)$ kettessel). A hátizsákba maximum összesen $S$ súlyt pakolhatunk. Szeretnénk úgy választani a tárgyakat, hogy az összfontosság maximális legyen. A feladatnak 3 népszerű variánsa létezik, mi itt kettőt fogunk vizsgálni:\n",
    "- a **0-1 hátizsák feladat** megoldásakor egy tárgy vagy bekerül a hátizsákba, vagy nem.\n",
    "- a **töredékes hátizsák feladat** megengedi, hogy egy tárgynak csak valamekkora részét tegyem el (pl. ha félbetöröm, akkor feleannyi lesz az értéke is)\n",
    "\n",
    "Legyenek a feladathoz a konkrét értékek a következők:\n",
    "- $S=12$\n",
    "- a tárgyak: $(5,3), (4,4), (5,2), (5,6), (4,5)$\n",
    "\n",
    "#### 0-1 probléma\n",
    "##### DP megoldás\n",
    "Jól megoldható DP-vel: vegyünk egy $T$ táblázatot $n$ sorral és $S+1$ oszloppal: $T[i,j]$ adja meg, hogy mennyi a maximális érték, amit berakhatunk a hátizsákba, ha az első $i$ tárgyat használhatom fel, a hátizsák kapacitása pedig $j$. Ekkor\n",
    "\n",
    "$$T[i,j] = \\max(T[i-1,j],f_i+T[i-1,j-s_i]),$$\n",
    "\n",
    "hiszen minden lépésben eldönthetem, hogy beleveszem-e az adott tárgyat a hátizsákba, avagy sem. Értelemszerűen akkor veszem bele, ha nagyobb összértéket érek el vele, mint ha nem venném be, ezért kell $\\max()$-ot számolni.\n",
    "\n",
    "##### mohó megoldás\n",
    "Számítsunk ki minden tárgyra egy $\\frac{f_i}{s_i}$ egységnyi súlyra jutó értéket, majd minden lépésben válasszuk azt a tárgyat, amelyre a legnagyobb ez a hányados. Ez a megoldás nem feltétlenül optimális.\n",
    "\n",
    "#### töredékes hátizsák\n",
    "Ugyanúgy használjuk a mohó módszert, azzal a különbséggel, hogy az utoljára beférő tárgyat törjük szét úgy, hogy éppen tele legyen a hátizsák. Így már optimális a mohó algoritmus."
   ]
  },
  {
   "cell_type": "code",
   "execution_count": 81,
   "id": "67d34a78",
   "metadata": {},
   "outputs": [],
   "source": [
    "import numpy as np\n",
    "\n",
    "# egy tárgy \"egységárának\" kiszámolása\n",
    "def unit_price(item):\n",
    "    return item[0]/item[1]\n",
    "\n",
    "\n",
    "# mohó algoritmus a hátizsák problémára\n",
    "def knapsack_greedy(S,items):\n",
    "    # rendezzük a tárgyakat csökkenő sorrendbe egységár szerint\n",
    "    items.sort(key=unit_price, reverse=True)\n",
    "    \n",
    "    result = 0\n",
    "    i = 0\n",
    "    while (S-items[i][1] >= 0):\n",
    "        # pakoljuk a hátizsákba a tárgyakat, amíg van hely\n",
    "        S -= items[i][1]\n",
    "        result += items[i][0]\n",
    "        i += 1\n",
    "        \n",
    "    return result\n",
    "\n",
    "# DP algoritmus a hátizsák feladatra\n",
    "def knapsack_dp(S, items):\n",
    "    n = len(items)\n",
    "    T = np.ndarray((n+1,S+1), dtype=int)\n",
    "    \n",
    "    for i in range(n+1):\n",
    "        T[i,0] = 0\n",
    "        \n",
    "    for j in range(S+1):\n",
    "        T[0,j] = 0\n",
    "        \n",
    "    for i in range(1,n+1):\n",
    "        for j in range(S+1):\n",
    "            if items[i-1][1] > j:\n",
    "                T[i,j] = T[i-1,j]\n",
    "            else:\n",
    "                T[i,j] = max(T[i-1,j], items[i-1][0]+T[i-1,j-items[i-1][1]])\n",
    "    \n",
    "    return T[n,S]\n",
    "    "
   ]
  },
  {
   "cell_type": "code",
   "execution_count": 82,
   "id": "8311a214",
   "metadata": {},
   "outputs": [
    {
     "name": "stdout",
     "output_type": "stream",
     "text": [
      "14\n",
      "15\n"
     ]
    }
   ],
   "source": [
    "print(knapsack_greedy(12, [(5,3),(4,4),(5,2),(5,6),(4,5)]))\n",
    "print(knapsack_dp(12, [(5,3),(4,4),(5,2),(5,6),(4,5)]))"
   ]
  },
  {
   "cell_type": "markdown",
   "id": "a8d81be1",
   "metadata": {},
   "source": [
    "### Intervallum lefedés\n",
    "Adott a számegyenesen valós számok $x_1, x_2, ..., x_n$ halmaza. Adjunk algoritmust, amely megad minimális egységnyi hosszú intervallumot, amelyek tartalmazzák a pontokat. Mik a lehetséges mohó stratégiák?\n",
    "- Válasszunk minden lépésben olyan intervallumot, amivel a maximális számú pontot tudjuk lefedni egyszerre: **nem optimális.**\n",
    "- Minden lépésben válasszuk azt az intervallumot, amelynek kezdőpontja az a legkisebb pont, ami még nincs lefedve: **optimális.**\n",
    "\n",
    "### Módosított pénzváltás\n",
    "Adott $F$ összeget szeretnénk felváltani a $ \\mathbf{P} = (P_1, P_2, ..., P_n)$ érmékkel. Legkevesebb hány érmét kell felhasználnom a váltáshoz? \n",
    "\n",
    "**Megoldás:** mohó módon használjuk a lehető legnagyobb $P_i$ érmét, amíg $P_i \\gt F$, ezt követően térjünk át $P_{i-1}$-re, ...\n",
    "\n",
    "- Legyen $\\mathbf{P} = (1, 5, 10, 25)$. Igazoljuk, hogy optimális a fenti algoritmus!\n",
    "- Van olyan $\\mathbf{P}$ vektor, amelyre nem optimális a mohó?"
   ]
  },
  {
   "cell_type": "code",
   "execution_count": null,
   "id": "8b14c8b2",
   "metadata": {},
   "outputs": [],
   "source": []
  }
 ],
 "metadata": {
  "kernelspec": {
   "display_name": "Python 3 (ipykernel)",
   "language": "python",
   "name": "python3"
  },
  "language_info": {
   "codemirror_mode": {
    "name": "ipython",
    "version": 3
   },
   "file_extension": ".py",
   "mimetype": "text/x-python",
   "name": "python",
   "nbconvert_exporter": "python",
   "pygments_lexer": "ipython3",
   "version": "3.9.5"
  }
 },
 "nbformat": 4,
 "nbformat_minor": 5
}
