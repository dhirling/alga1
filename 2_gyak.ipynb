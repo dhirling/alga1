{
 "cells": [
  {
   "cell_type": "markdown",
   "metadata": {},
   "source": [
    "# 2. gyakorlat (Aszimptotikus jelölések)\n",
    "A mai órán azt fogjuk megnézni, hogy milyen módszerekkel tudjuk megbecsülni azt, hogy egy általunk, vagy valaki más által fejlesztett algoritmus körülbelül mennyi ideig fog futni (és mi történik akkor, ha az algoritmusunk egy több és több, vagy nagyobb és nagyobb adatmennyiséget kap, vagyis hogy mennyire skálázható).\n",
    "## Alapvető jelölések\n",
    "\n",
    "- *n*: általában ezzel jelöljük a bemenő adat(ok) méretét, mennyiségét.\n",
    "- *f(n)*: *n* méretű bemenetre hány lépésben \"végez\" az algoritmus pontosan. Szoktuk *T(n)*-nel is jelölni.\n",
    "\n",
    "## Egyszerű példa\n",
    "Adott egy *n* méretű, egész számokból álló tömb. Az *A* algoritmus bemenetként kapja ezt a tömböt, majd összegzi a benne található értékeket úgy, hogy minden második tömbelemből kivon 1-et, ezt követően az eredményt megszorozza 2-vel. Mi lesz ebben az esetben *T(n)* értéke? Számoljunk:\n",
    "\n",
    "- *n* db összeadást végzünk, hiszen minden tömbelemet hozzáadunk az eredményhez.\n",
    "- *n/2* db kivonást végzünk, hiszen minden 2. tömbelemből kivonunk 1-et.\n",
    "- 1 db szorzást végzünk a legvégén.\n",
    "- Tehát *T(n) = n + n/2 + 1 = 3n/2 + 1*. \n",
    "\n",
    "## Ordó, Theta, Sigma\n",
    "Nem mindig tudjuk megmondani egyértelműen *n* függvényében, hogy pontosan hány lépésben ér véget egy algoritmus, hiszen ez alapvetően nem csak a bemenet méretétől, hanem összetételétől függ. Tudunk viszont mondani három dolgot:\n",
    "\n",
    "- Legjobb,\n",
    "- Legrosszabb,\n",
    "- Átlagos esetben mennyi idő alatt fut le az algoritmus *n* input méretre?\n",
    "\n",
    "**Nézzünk gyorsan egy előző órai példát:**\n",
    "\n",
    "Egy egyetemista a fesztiválon átbulizott éjszaka után elfelejti, hogy a kempingben hol is volt a sátra. A kempingben *n* sátorhely van, amik egy sorban helyezkednek el. Az egyetemista csak akkor ismeri fel a sátrát, mikor másodszor is alaposan megnézi, így a következő stratégiát alkalmazza: először elmegy a kemping másik széléig, miközben minden sátorhelyet megnéz. Majd mivel elsőre nem találja meg a sátrat, visszafordul, és újra megvizsgálja az összes sátorhelyet, amíg rá nem lel a sajátjára. Hányszor kell az egyetemistának vizsgálódnia a legjobb, a legrosszabb és az átlagos esetben?\n",
    "\n",
    "A feladatot megoldottuk előző órán, így most csak a megoldást írjuk fel gyorsan:\n",
    "\n",
    "- Legjobb esetben *n+1* vizsgálódás: ez akkor történik meg, ha az *n*. sátor az övé.\n",
    "- Legrosszabb esetben *2n*: ekkor az 1. sátor az övé.\n",
    "- Átlagos eset: ezt úgy számoltuk, hogy végigszámoltunk minden esetet, összegeztük a vizsgálódások számát, majd átlagoltunk. Így jött ki a *(3n+1)/2*.\n",
    "\n",
    "A legtöbb esetben nem igazán érdekel minket, hogy **pontosan** hány lépésből áll megoldani egy problémát, csupán az számít, hogy kb. mekkora nagyságrendű a ráfordított idő *n* függvényében. Erre fogjuk használni az ![Ordó, Omega, Theta](img/2_ordo.jpg) jelöléseket. Az utóbbi kettő előadáson kerül tárgyalásra, mi egyedül az ordóval fogunk foglalkozni most, hiszen a legtöbbször az érdekel minket, hogy mire számíthatunk egy algoritmus futása során **legrosszabb** esetben. Lássuk hát a formális definiciót, aztán dekódoljuk, hogy ez mit is jelent:\n",
    "\n",
    "## Ordó\n",
    "\n",
    "![Def.](img/2_def.jpg)\n",
    "Oké, ez így hirtelen elég ijesztőnek tűnhet, nem is fogunk most azzal időt tölteni, hogy szimbólumról szimbólumra értelmezzük ezt a definiciót, viszont néhány megállapítást gyorsan tehetünk:\n",
    "\n",
    "- Ezek szerint ha azt mondjuk, hogy *O(g(n))*, akkor ez alatt egy egész \"függvénycsaládot\" értünk, hiszen ez valamilyen függvényeknek a halmazát jelenti. Vagyis ha pl. azt mondom, hogy *O(n)*, akkor az nem egy konkrét függvényt jelent, hanem sok-sok függvény halmazát.\n",
    "- Egy tetszőleges *f(n)* függvény akkor része egy *O(g(n))* halmaznak, ha tudunk találni egy olyan *n0* pontot és egy olyan *c* konstanst, hogy onnantól kezdve már minden *n* értékre ezt az *f* függvényt felülről korlátozza a *g*-nek valamilyen *c* konstansszorosa. Ezt most nem fogjuk nagyon kielemezni, de ha kicsit nézegetitek, hamar rájöhettek, hogy ez csak annyit jelent, hogy minden olyan *f(n)* függvény benne lesz egy *O(g(n))* halmazban, ahol egyébként a *g(n)* függvény nagyságrendileg megegyező módon, vagy gyorsabban nő, mint *f(n)*, ha *n* tart a végtelenbe.\n",
    "\n",
    "Ezek alapján akkor mondhatunk olyat, hogy ![T(n) eleme O(g(n))-nek](img/2_in.jpg), ezzel azt mondjuk, hogy *T(n)* is egy olyan függvény, ami nagyságrendileg legfeljebb olyan gyorsan nő, mint *g(n)*. Gyakran használjuk egyébként ehelyett a *T(n) = O(g(n))* jelölést, ez alatt pedig ugyanazt értjük, mint amit az imént felírtam. Ez az ordó jelölés nekünk ezek szerint pont jó lesz arra, hogy megmondjuk azt, hogy nagyságrendileg mennyi ideig fog futni egy algoritmus legrosszabb esetben. *g(n)*-t mindig valamilyen alapfüggvénynek választjuk (pl. *n*, *n^2*, *log(n)*), mert így praktikus.\n",
    "\n",
    "## Néhány példa\n",
    "\n",
    "Nézzünk néhány legrosszabb eset futási időt, majd mondjuk meg, hogy ezek milyen nagyságrendű futási idők!\n",
    "\n",
    "- *T(n) = 3n/2+5 = O(n)*. Gyakorlatilag ezzel azt mondjuk, hogy a 3/2-es szorzó és az 5 hozzáadása semmit nem számít, ha *n* már nagyon nagy, az egyetlen dolog, ami fontos, az az, hogy lineáris függvény a *T(n)*. Természetesen *T(n) = O(n/2), T(n) = O(3n), T(n) = O(9n+34)* is mind teljesülnek (próbálgassuk csak a definició alapján), de ezért mondtuk az elején, hogy *g(n)* legyen valamilyen alapfüggvény, mert ezzel tudjuk a nagyságrendet jól jelölni. Pl. *T(n) = O(1)* már nem igaz.\n",
    "- *T(n) = 3n^2+5n+9*: Megint csak azt nézzük, hogy ha n elég nagy, akkor mi az, ami igazán domináns lesz ebben a függvényben? Ez egy négyzetes függvény, tehát mind a lineáris, mind a konstans tag, sőt, még a négyzetes tag együtthatója is vajmi keveset számít, ha kellően nagy *n*-t választunk, tehát *T(n) = O(n^2)* (természetesen ezek mind kijönnek a definicióból is, de talán így intuitívebb). Figyeljük meg, hogy *T(n) = O(n)* már nem teljesül ebben az esetben.\n",
    "- *T(n) = 3log(n+4)+7nlog(n)+2n*: Itt már 3 db *n*-es tagunk is van, csak azt kell eldönteni, hogy melyik a \"legdominánsabb\" ezek közül, ez pedig nem más, mint a *7nlog(n)*, hiszen ez növekszik a leggyorsabban, vagyis *T(n) = O(nlog(n))*.\n",
    "- *T(n) = sqrt(56)+76/34+10256 = O(1)*: Ez gyakorlatilag azt jelenti, hogy az algoritmus futási idejét nem befolyásolja az, hogy mekkora az input mérete. **Nem jelenti azt, hogy feltétlenül gyors is!**\n",
    "- *T(n) = 3log(n+4)+7nlog(n) = O(nlog(n))*, hasonló megfontolásokból.\n",
    "- *T(n) = 7n^4+5n^3+104n+98 = O(n^4)*.\n",
    "\n",
    "\n",
    "## Alapfüggvények növekedése szemléletesen\n",
    "![Alapfüggvények](img/2_plot.png)\n",
    "\n",
    "\n",
    "## Feladatok\n",
    "1. Sátras feladat ordója?\n",
    "2. Rendezetlen tömbben elem megtalálása?\n",
    "3. Redezett tömbben elem megtalálása?\n",
    "4. Két vektor skaláris szorzatának kiszámítása?\n",
    "5. Két nxn-es mátrix szorzása?"
   ]
  },
  {
   "cell_type": "code",
   "execution_count": 1,
   "metadata": {},
   "outputs": [],
   "source": [
    "# 2. feladat\n",
    "def find_element(arr, x):\n",
    "    \n",
    "    # i indexet 0-tól futtatjuk a tömb hosszáig\n",
    "    for i in range(len(arr)): \n",
    "        # ha megtaláltuk, örülünk\n",
    "        if arr[i] == x:\n",
    "            return x\n",
    "    # ha nem találtuk meg, szomorúak vagyunk.\n",
    "    return -1"
   ]
  },
  {
   "cell_type": "markdown",
   "metadata": {},
   "source": [
    "**Megoldás:** mivel 1-szer járjuk csak végig az tömböt, és vissza is térünk, ha megtaláltuk *x*-et, legrosszabb esetben *n* lépésből megvagyunk, tehát *T2(n) = O(n)*."
   ]
  },
  {
   "cell_type": "code",
   "execution_count": 1,
   "metadata": {},
   "outputs": [],
   "source": [
    "# 3. feladat\n",
    "def find_binSearch(arr, x, l, r):\n",
    "    '''\n",
    "    Itt arr és x jelentése viszonylag egyértelmű, \n",
    "    l: az arr tömbben a keresési tartomány bal szélének indexe,\n",
    "    r: az arr tömbben a keresési tartomány jobb szélének indexe.\n",
    "    \n",
    "    Értelemszerűen l=0, r=len(arr)-1 paraméterekkel indítunk.\n",
    "    '''\n",
    "\n",
    "    if r >= l:\n",
    "        # megkeressük a középső elemet a tömbben\n",
    "        mid = round(l+(r-l)/2)\n",
    "        # ha megtaláltuk, örülünk\n",
    "        if arr[mid] == x:\n",
    "            return mid\n",
    "        # ha a középső elemnél nagyobbat keresünk, akkor újraindítjuk a keresést, de most már csak az eddig vizsgált tömb jobb felén.\n",
    "        if arr[mid] > x:\n",
    "            return find_binSearch(arr,x,l,mid-1)\n",
    "        # ha ennél kisebbet keresünk, akkor pedig a bal felén keresünk tovább az eddig vizsgált régiónak.\n",
    "        return find_binSearch(arr,x,mid+1,r)\n",
    "    \n",
    "    return -1"
   ]
  },
  {
   "cell_type": "markdown",
   "metadata": {},
   "source": [
    "**Megoldás:** Legyen *n = 2^k* (tehát *n* 2-nek valamilyen egész kitevőjű hatványa). \n",
    "\n",
    "Rekurzív összefüggéssel felírható, hogy\n",
    "\n",
    "*T(n) = T(n/2)+O(1)*.\n",
    "\n",
    "**Miért?** Hát mert az *n* méretű (rendezett) tömbben keresés futási ideje úgy jön ki, hogy egyrészt végrehajtom a függvényt az *n* méretű inputra (mivel itt nincs for ciklus, csak 1-1 műveletet csinálunk, ezért ez *O(1)*), másrészt meghívom rekurzívan ugyanezt a függvényt egy feleakkora méretű inputra (lényegében azt a felezést csinálom, amit 1. órán megbeszéltünk), ennek a futási ideje pedig *T(n/2)*. Ezt persze tovább bonthatom, hiszen\n",
    "\n",
    "*T(n/2) = T(n/4)+O(1), T(n/4) = T(n/8)+O(1), ...*, tehát\n",
    "\n",
    "*T(n) = T(n/2)+O(1) = T(n/4)+2 * O(1) = T(n/8)+3 * O(1) = ... = T(1) + k * O(1)*,\n",
    "\n",
    "hiszen *k*-szor kellett feleznem (mert *n* 2-nek *k*-adik hatványa). De mit is jelent *k*? Ez az a szám, amelyre ha a 2-t emelem, *n*-t kapok, vagyis *k = log2(n)*. Folytassuk akkor:\n",
    "\n",
    "- *T(1) = O(1)*, hiszen egy 1 méretű inputra csak egyszer fogom meghívni a függvényt, nem lesz rekurzió, a függvényen belül pedig nincsenek for ciklusok, vagyis\n",
    "- *T(n) = T(1) + k * O(1) = O(1) + log2(n) * O(1) = O(log2(n))*, vagyis az algoritmus logaritmikus futási idejű.\n"
   ]
  },
  {
   "cell_type": "code",
   "execution_count": 6,
   "metadata": {},
   "outputs": [],
   "source": [
    "# 4. feladat\n",
    "def scalar_prod(v1, v2):\n",
    "    \n",
    "    result = 0\n",
    "    # feltételezzük, hogy azonos hosszúságú vektorokat adtunk meg.\n",
    "    for i in range(len(v1)):\n",
    "        result += v1[i]*v2[i]\n",
    "    return result"
   ]
  },
  {
   "cell_type": "markdown",
   "metadata": {},
   "source": [
    "**Megoldás:** 1-szer végigjárjuk a  tömböt, ezen belül minden indexnél végzünk egy összeadást, és egy szorzást. Tehát *T(n) = n * 2 = O(n)*"
   ]
  },
  {
   "cell_type": "code",
   "execution_count": 7,
   "metadata": {},
   "outputs": [],
   "source": [
    "# az 5. feladathoz már szükségünk lesz egy külső könyvtárra\n",
    "import numpy as np"
   ]
  },
  {
   "cell_type": "code",
   "execution_count": 8,
   "metadata": {},
   "outputs": [],
   "source": [
    "# 5. feladat\n",
    "def matrix_prod(m1,m2):\n",
    "    \n",
    "    # feltételezzük, hogy mindkét mátrix nxn-es. Létrehozzuk az eredménymátrixot, feltöltjük nullákkal.\n",
    "    n = m1.shape[0]\n",
    "    result = np.zeros((n,n)) \n",
    "    \n",
    "    # i-t végigfuttatjuk az eredménymátrix sorain\n",
    "    for i in range(n):\n",
    "        # j-t végigfuttatjuk az eredménymátrix oszlopain\n",
    "        for j in range(n):\n",
    "            # k jelöli az 1. mátrix oszlopindexét és a 2. mátrix sorindexét egyszerre.\n",
    "            for k in range(n):\n",
    "                result[i,j] += m1[i,k]*m2[k,j]\n",
    "    \n",
    "    return result      "
   ]
  },
  {
   "cell_type": "markdown",
   "metadata": {},
   "source": [
    "**Megoldás:** 3 egymásba ágyazott(!) for ciklust futtatunk, a legbelső ciklusmagban pedig 2 műveletet végzünk el (1 összeadás, 1 szorzás), tehát *T(n) = n * n * n * 2 = 2n^3 = O(n^3)*.\n",
    "\n",
    "**Megj.:** Ha mondjuk olyan algoritmusunk lenne, ami 3 egymás utáni for ciklust futtatna, minden ciklusmagban egyetlen művelettel, akkor az már nem köbös futási idejű lenne, hiszen *T(n)= 3n* műveletet kellene csak végrehajtani, ami miatt a futási idő lineáris lenne."
   ]
  },
  {
   "cell_type": "code",
   "execution_count": 11,
   "metadata": {},
   "outputs": [
    {
     "name": "stdout",
     "output_type": "stream",
     "text": [
      "9\n",
      "-1\n"
     ]
    }
   ],
   "source": [
    "arr = [3,5,9,1,2]\n",
    "print(find_element(arr,9))\n",
    "print(find_element(arr,10))"
   ]
  },
  {
   "cell_type": "code",
   "execution_count": 2,
   "metadata": {},
   "outputs": [
    {
     "name": "stdout",
     "output_type": "stream",
     "text": [
      "2\n",
      "-1\n"
     ]
    }
   ],
   "source": [
    "arr = [1,3,5,8,10,17,24,52,63,98]\n",
    "print(find_binSearch(arr,5,0,len(arr)-1))\n",
    "print(find_binSearch(arr,6,0,len(arr)-1))"
   ]
  },
  {
   "cell_type": "code",
   "execution_count": 15,
   "metadata": {},
   "outputs": [
    {
     "name": "stdout",
     "output_type": "stream",
     "text": [
      "3\n"
     ]
    }
   ],
   "source": [
    "v1 = [1,0,2]\n",
    "v2 = [3,4,0]\n",
    "print(scalar_prod(v1,v2))"
   ]
  },
  {
   "cell_type": "code",
   "execution_count": 20,
   "metadata": {},
   "outputs": [
    {
     "name": "stdout",
     "output_type": "stream",
     "text": [
      "[[ 0.  0. 10.]\n",
      " [ 0.  0.  6.]\n",
      " [ 0.  0.  0.]]\n"
     ]
    }
   ],
   "source": [
    "m1 = np.array([[5,0,0],\n",
    "               [0,2,0],\n",
    "               [0,0,1]])\n",
    "m2 = np.array([[0,0,2],\n",
    "               [0,0,3],\n",
    "               [0,0,0]])\n",
    "print(matrix_prod(m1,m2))"
   ]
  }
 ],
 "metadata": {
  "kernelspec": {
   "display_name": "Python (tensorflow)",
   "language": "python",
   "name": "tensorflow"
  },
  "language_info": {
   "codemirror_mode": {
    "name": "ipython",
    "version": 3
   },
   "file_extension": ".py",
   "mimetype": "text/x-python",
   "name": "python",
   "nbconvert_exporter": "python",
   "pygments_lexer": "ipython3",
   "version": "3.8.8"
  }
 },
 "nbformat": 4,
 "nbformat_minor": 4
}
