{
 "cells": [
  {
   "cell_type": "markdown",
   "id": "246b17cb",
   "metadata": {},
   "source": [
    "# 3. gyakorlat (Rekurzió, oszd meg és uralkodj elv)\n",
    "Ezen a gyakorlaton az oszd meg és uralkodj problémamegoldási stratégiával fogunk foglalkozni, amelynek szerves része a rekurzió is.\n",
    "## Oszd meg és uralkodj\n",
    "A stratégia lényege a következő: vegyük észre, hogy a probléma, amit meg szeretnénk oldani, felbontható részfeladatokra, ezen részfeladatok megoldása pedig megoldja az eredeti problémánkat is. Legtöbbször ezek a részfeladatok maguk is pontosan ugyanazok a feladatok, amiket eredetileg meg akartunk oldani, csupán egy kisebb \"adathalmazon\" kell megoldanunk, tehát tovább bonthatjuk a problémákat egészen addig, amíg már triviálisan megoldható a probléma. A stratégia lépései a következők:\n",
    "\n",
    "- **Oszd meg:** bontsuk az eredeti, nagy feladatot kisebb részproblémákra\n",
    "- **Uralkodj:** oldjuk meg ezeket a kisebb részproblémákat (sokszor ezeket is először \"oszd meg\" módszerrel bontjuk tovább)\n",
    "- **Egyesítsd (combine):** ha megoldottuk a részproblémákat, akkor az általuk adott eredményből megkapjuk az eredeti probléma megoldását is.\n",
    "\n",
    "**Példa:** Az előző gyakorlaton megnéztük, hogy ha egy rendezett tömbben akarunk keresni, akkor a \"felezős módszer\" elég hatékony lesz. Ha érdekel a kód és a megoldás, akkor nézd meg a 2. gyakorlat anyagát. Nekünk itt most elég annyi, hogy ott is arról volt szó, hogy ha nem találtuk meg a keresendő elemet, akkor megnéztük, hogy a tömb melyik felében van értelme tovább keresni, majd ugyanezt a keresési algoritmust hívtuk meg egy kisebb tömbre, egészen addig, amíg vagy meg nem találtuk a keresett elemet középen, vagy már csak egy elem nem maradt a felezések után.\n",
    "\n",
    "Ebben a feladatban ugyan felfedezhetők az oszd meg és uralkodj jellemzői, mégis, néhány ponton nem stimmel a dolog:\n",
    "\n",
    "- az \"oszd meg\" részben nem több részproblémára bontottunk, csupán egyetlen kisebb részproblémára vezettük vissza az eredeti feladatot.\n",
    "- az \"uralkodj\" rész stimmel\n",
    "- az \"egyesítsd\" résznél nincs szükségünk arra, hogy \"visszamenjünk az eredeti problémáig\", ami megoldást kapunk, az automatikusan minden előző feladat megoldása is lesz.\n",
    "\n",
    "Az ilyen jellegű megoldásokat szoktuk **Decrease and conquer**-nek is nevezni, ilyenkor nem több részproblémánk van, csak egy kisebb, de összeségében ez lényegtelen is, hiszen ez csak egy variánsa az eredeti oszd meg és uralkodj módszernek.\n",
    "\n",
    "## Rekurzió\n",
    "A divide & conquer stratégia megvalósításához elengedhetetlen a rekurzió. Rekurzív hívásnál egy függvény az önmaga által definiált műveletsort fogja végrehajtani, jellemzően az eredetihez képest egy kisebb inputon. Egy ilyen algoritmusnak általában két fő része van:\n",
    "\n",
    " - **Alapeset:** Ezzel mondjuk meg, hogy mi az az input, amelyre már nem kell több rekurzív hívás, hanem visszatérhetünk a (rész)probléma megoldásával.\n",
    " - **Rekurzív eset:** Ilyenkor a függvény valamilyen módon önmagát fogja meghívni úgy, hogy paraméterként egy kisebb, szűkebb adathalmazt adunk át az eredetihez képest (ez nem törvényszerű, de azért jellemző).\n",
    " \n",
    "Ha a rekurzióban nem lenne alapeset, akkor a rekurzív függvény folyamatosan hívogatná önmagát egészen addig, amíg a verem túl nem csordul és stack overflow hibát nem kapunk.\n",
    "\n",
    "**Példa:** Írjunk algoritmust, amely rekurzívan kiszámolja egy tetszőleges *n* pozitív egész szám faktoriálisát!"
   ]
  },
  {
   "cell_type": "code",
   "execution_count": 1,
   "id": "1e2c983f",
   "metadata": {},
   "outputs": [],
   "source": [
    "def factorial(n):\n",
    "    if n==1:\n",
    "        return n\n",
    "    return n*factorial(n-1)"
   ]
  },
  {
   "cell_type": "code",
   "execution_count": 2,
   "id": "98316c32",
   "metadata": {},
   "outputs": [
    {
     "data": {
      "text/plain": [
       "120"
      ]
     },
     "execution_count": 2,
     "metadata": {},
     "output_type": "execute_result"
    }
   ],
   "source": [
    "factorial(5)"
   ]
  },
  {
   "cell_type": "markdown",
   "id": "348e7f40",
   "metadata": {},
   "source": [
    "**Példa:** Fibonacci-sorozat *n.* tagja rekurzívan?"
   ]
  },
  {
   "cell_type": "code",
   "execution_count": 3,
   "id": "6e994a17",
   "metadata": {},
   "outputs": [],
   "source": [
    "def fibonacci(n):\n",
    "    if n==1 or n==2:\n",
    "        return 1\n",
    "    return fibonacci(n-1)+fibonacci(n-2)"
   ]
  },
  {
   "cell_type": "code",
   "execution_count": 6,
   "id": "f6c99138",
   "metadata": {},
   "outputs": [
    {
     "data": {
      "text/plain": [
       "8"
      ]
     },
     "execution_count": 6,
     "metadata": {},
     "output_type": "execute_result"
    }
   ],
   "source": [
    "fibonacci(6)"
   ]
  },
  {
   "cell_type": "markdown",
   "id": "3fce32b8",
   "metadata": {},
   "source": [
    "## Feladatok\n",
    "1. Adjunk rekurzív algoritmust, ami meghatározza, hogy hányféleképpen mehetünk fel egy *n* lépcsőfokból álló lépcsőn, ha egyszerre csak 1, vagy 2 lépcsőfokot léphetünk!\n",
    "2. Adjunk rekurzív algoritmust, amely meghatározza, hogy hányféleképpen juthatunk el egy *n* sorból és *k* oszlopból álló sakktábla bal alsó sarkából a jobb felső sarkába, ha csak a jobbra, vagy a felfelé szomszédos mezőre léphetünk!\n",
    "3. **Hanoi tornyai probléma:** Adott 3 rúd, az elsőn van *n* korong. Az első rúdról az utolsóra kell átrakni a korongokat úgy, hogy minden lépésben egy korongot lehet áttenni, nagyobb korong nem tehető kisebb korongra. Írjunk algoritmust a probléma megoldására!"
   ]
  },
  {
   "cell_type": "code",
   "execution_count": null,
   "id": "736d85c1",
   "metadata": {},
   "outputs": [],
   "source": [
    "# 1. feladat\n",
    "def stairs(n):\n",
    "    if n==1 or n==2:\n",
    "        return n\n",
    "    return stairs(n-1)+stairs(n-2)"
   ]
  },
  {
   "cell_type": "code",
   "execution_count": null,
   "id": "f6bdfc62",
   "metadata": {},
   "outputs": [],
   "source": [
    "# 2. feladat\n",
    "def chess(n,k):\n",
    "    if n==1 or k==1:\n",
    "        return 1\n",
    "    return chess(n-1,k)+chess(n,k-1)"
   ]
  },
  {
   "cell_type": "code",
   "execution_count": 18,
   "id": "33b0eda6",
   "metadata": {},
   "outputs": [],
   "source": [
    "# 3. feladat (Hanoi)\n",
    "'''\n",
    "Legyen a 3 rúd jele A, B, C, ezeket tömbökkel reprezentáljuk, a rudakon található korongokat pedig egész\n",
    "számokkal azonosítjuk (1 a legkisebb, ..., n a legnagyobb).\n",
    "'''\n",
    "n = 3\n",
    "A = [i for i in range(n,0,-1)] # A = [n, n-1, ..., 1]\n",
    "B = []\n",
    "C = []\n",
    "\n",
    "def mozgat(n, honnan, hova, segedrud):\n",
    "    '''\n",
    "    n: melyik korongot mozgatom\n",
    "    honnan: melyik rúdról\n",
    "    hova: melyik rúdra\n",
    "    segedrud: bizonyos korongokat ide fogunk átpakolni\n",
    "    '''\n",
    "    # amíg van \"mozgatandó\" korong:\n",
    "    if n>0:\n",
    "        mozgat(n-1, honnan, segedrud, hova)\n",
    "        \n",
    "        hova.append(honnan.pop())\n",
    "        \n",
    "        print(f'{A = }', f'{B = }', f'{C = }', '##############', sep='\\n')\n",
    "\n",
    "        mozgat(n - 1, segedrud, hova, honnan)\n",
    "        \n",
    "def hanoi(n):\n",
    "    mozgat(n, A, C, B)"
   ]
  },
  {
   "cell_type": "code",
   "execution_count": 19,
   "id": "baeffb9e",
   "metadata": {},
   "outputs": [
    {
     "name": "stdout",
     "output_type": "stream",
     "text": [
      "A = [3, 2]\n",
      "B = []\n",
      "C = [1]\n",
      "##############\n",
      "A = [3]\n",
      "B = [2]\n",
      "C = [1]\n",
      "##############\n",
      "A = [3]\n",
      "B = [2, 1]\n",
      "C = []\n",
      "##############\n",
      "A = []\n",
      "B = [2, 1]\n",
      "C = [3]\n",
      "##############\n",
      "A = [1]\n",
      "B = [2]\n",
      "C = [3]\n",
      "##############\n",
      "A = [1]\n",
      "B = []\n",
      "C = [3, 2]\n",
      "##############\n",
      "A = []\n",
      "B = []\n",
      "C = [3, 2, 1]\n",
      "##############\n"
     ]
    }
   ],
   "source": [
    "hanoi(3)"
   ]
  },
  {
   "cell_type": "code",
   "execution_count": null,
   "id": "8294d7c0",
   "metadata": {},
   "outputs": [],
   "source": []
  }
 ],
 "metadata": {
  "kernelspec": {
   "display_name": "Python 3 (ipykernel)",
   "language": "python",
   "name": "python3"
  },
  "language_info": {
   "codemirror_mode": {
    "name": "ipython",
    "version": 3
   },
   "file_extension": ".py",
   "mimetype": "text/x-python",
   "name": "python",
   "nbconvert_exporter": "python",
   "pygments_lexer": "ipython3",
   "version": "3.9.5"
  }
 },
 "nbformat": 4,
 "nbformat_minor": 5
}
