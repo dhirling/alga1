{
 "cells": [
  {
   "cell_type": "markdown",
   "metadata": {},
   "source": [
    "# 6. Gyakorlat (Adatszerkezetek)\n",
    "## Sor"
   ]
  },
  {
   "cell_type": "code",
   "execution_count": 33,
   "metadata": {},
   "outputs": [],
   "source": [
    "class Queue(object):\n",
    "    def __init__(self):\n",
    "        self._queue = []\n",
    "    \n",
    "    def is_empty(self):\n",
    "        if len(self._queue) == 0:\n",
    "            return True\n",
    "        else:\n",
    "            return False\n",
    "        \n",
    "    def enqueue(self, x):\n",
    "        self._queue.insert(0,x)\n",
    "        \n",
    "    def dequeue(self):\n",
    "        if not self.is_empty():\n",
    "            return self._queue.pop()\n",
    "        else:\n",
    "            print(\"Queue empty.\")"
   ]
  },
  {
   "cell_type": "markdown",
   "metadata": {},
   "source": [
    "## Verem"
   ]
  },
  {
   "cell_type": "code",
   "execution_count": 34,
   "metadata": {},
   "outputs": [],
   "source": [
    "class Stack(object):\n",
    "    def __init__(self):\n",
    "        self._stack = []\n",
    "        \n",
    "    def is_empty(self):\n",
    "        if len(self._stack) == 0:\n",
    "            return True\n",
    "        else:\n",
    "            return False\n",
    "        \n",
    "    def push(self, x):\n",
    "        self._stack.append(x)\n",
    "        \n",
    "    def pop(self):\n",
    "        if not self.is_empty():\n",
    "            return self._stack.pop()\n",
    "        else:\n",
    "            print(\"Stack empty.\")"
   ]
  },
  {
   "cell_type": "markdown",
   "metadata": {},
   "source": [
    "## Prioritási sor"
   ]
  },
  {
   "cell_type": "code",
   "execution_count": 35,
   "metadata": {},
   "outputs": [],
   "source": [
    "class PriQueue(object):\n",
    "    def __init__(self):\n",
    "        self._queue = []\n",
    "    \n",
    "    def is_empty(self):\n",
    "        if len(self._queue) == 0:\n",
    "            return True\n",
    "        else:\n",
    "            return False\n",
    "        \n",
    "    def enqueue(self, x):\n",
    "        self._queue.append(x)\n",
    "        self._queue.sort(reverse=True)\n",
    "        \n",
    "    def dequeue(self):\n",
    "        if not self.is_empty():   \n",
    "            return self._queue.pop()\n",
    "        else:\n",
    "            print(\"Queue empty.\")"
   ]
  },
  {
   "cell_type": "markdown",
   "metadata": {},
   "source": [
    "## 1. Feladat\n",
    "Input: $3, 6, 10, 8, 1, 9, 7$"
   ]
  },
  {
   "cell_type": "code",
   "execution_count": 36,
   "metadata": {},
   "outputs": [
    {
     "name": "stdout",
     "output_type": "stream",
     "text": [
      "Sor eredmeny:\n",
      "3\n",
      "6\n",
      "10\n",
      "8\n",
      "1\n",
      "9\n",
      "7\n",
      "Verem eredmeny:\n",
      "7\n",
      "9\n",
      "1\n",
      "8\n",
      "10\n",
      "6\n",
      "3\n",
      "PriSor eredmeny:\n",
      "1\n",
      "3\n",
      "6\n",
      "7\n",
      "8\n",
      "9\n",
      "10\n"
     ]
    }
   ],
   "source": [
    "inputs = [3,6,10,8,1,9,7]\n",
    "q = Queue()\n",
    "s = Stack()\n",
    "pq = PriQueue()\n",
    "for i in inputs:\n",
    "    q.enqueue(i)\n",
    "    pq.enqueue(i)\n",
    "    s.push(i)\n",
    "\n",
    "# sor\n",
    "print(\"Sor eredmeny:\")\n",
    "while not q.is_empty():\n",
    "    print(q.dequeue())\n",
    "\n",
    "# verem\n",
    "print(\"Verem eredmeny:\")\n",
    "while not s.is_empty():\n",
    "    print(s.pop())\n",
    "    \n",
    "# prisor\n",
    "print(\"PriSor eredmeny:\")\n",
    "while not pq.is_empty():\n",
    "    print(pq.dequeue())"
   ]
  },
  {
   "cell_type": "markdown",
   "metadata": {},
   "source": [
    "## Szimuláljunk veremmel sort!"
   ]
  },
  {
   "cell_type": "code",
   "execution_count": 49,
   "metadata": {},
   "outputs": [],
   "source": [
    "class QueueWithStack(object):\n",
    "    def __init__(self):\n",
    "        self._s1 = Stack()\n",
    "        self._s2 = Stack()\n",
    "        \n",
    "    def is_empty(self):\n",
    "        return self._s1.is_empty() and self._s2.is_empty()\n",
    "    \n",
    "    def enqueue(self, x):\n",
    "        self._s1.push(x)\n",
    "    \n",
    "    def dequeue(self):\n",
    "        if self._s2.is_empty():\n",
    "            while not self._s1.is_empty():\n",
    "                x = self._s1.pop()\n",
    "                self._s2.push(x)\n",
    "                \n",
    "        return self._s2.pop()"
   ]
  },
  {
   "cell_type": "code",
   "execution_count": 53,
   "metadata": {},
   "outputs": [
    {
     "name": "stdout",
     "output_type": "stream",
     "text": [
      "[3, 6, 10, 8, 1, 9, 7]\n",
      "Eredmeny:\n",
      "3\n",
      "6\n",
      "10\n",
      "8\n",
      "1\n",
      "9\n",
      "7\n"
     ]
    }
   ],
   "source": [
    "qs = QueueWithStack()\n",
    "inputs = [3,6,10,8,1,9,7]\n",
    "for i in inputs:\n",
    "    qs.enqueue(i)\n",
    "    \n",
    "print(\"Eredmeny:\")\n",
    "while not qs.is_empty():\n",
    "    print(qs.dequeue())"
   ]
  },
  {
   "cell_type": "code",
   "execution_count": null,
   "metadata": {},
   "outputs": [],
   "source": []
  }
 ],
 "metadata": {
  "kernelspec": {
   "display_name": "stardist",
   "language": "python",
   "name": "stardist"
  },
  "language_info": {
   "codemirror_mode": {
    "name": "ipython",
    "version": 3
   },
   "file_extension": ".py",
   "mimetype": "text/x-python",
   "name": "python",
   "nbconvert_exporter": "python",
   "pygments_lexer": "ipython3",
   "version": "3.8.8"
  }
 },
 "nbformat": 4,
 "nbformat_minor": 4
}
